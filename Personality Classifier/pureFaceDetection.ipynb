{
 "cells": [
  {
   "cell_type": "markdown",
   "metadata": {},
   "source": [
    "<h3>Pure face detection notebook</h3>"
   ]
  },
  {
   "cell_type": "code",
   "execution_count": 2,
   "metadata": {},
   "outputs": [],
   "source": [
    "import os\n",
    "import cv2\n",
    "import tkinter as tk\n",
    "from tkinter import simpledialog, messagebox\n",
    "from deepface import DeepFace\n"
   ]
  },
  {
   "cell_type": "markdown",
   "metadata": {},
   "source": [
    "<h3>Files managment</h3>"
   ]
  },
  {
   "cell_type": "code",
   "execution_count": 3,
   "metadata": {},
   "outputs": [],
   "source": [
    "\n",
    "USER_DB_DIR = 'user_db'\n",
    "if not os.path.exists(USER_DB_DIR):\n",
    "    os.makedirs(USER_DB_DIR)\n"
   ]
  },
  {
   "cell_type": "markdown",
   "metadata": {},
   "source": [
    "<h3>Method to hold Login,Register</h3>"
   ]
  },
  {
   "cell_type": "code",
   "execution_count": 4,
   "metadata": {},
   "outputs": [],
   "source": [
    "def capture_image(username):\n",
    "    cap = cv2.VideoCapture(0)\n",
    "    while True:\n",
    "        _, frame = cap.read()\n",
    "        cv2.imshow('Press \"s\" to Save, \"q\" to Quit', frame)\n",
    "        key = cv2.waitKey(1)\n",
    "        if key & 0xFF == ord('s'):\n",
    "            image_path = os.path.join(USER_DB_DIR, f'{username}.jpg')\n",
    "            cv2.imwrite(image_path, frame)\n",
    "            messagebox.showinfo(\"Registration\", f\"User '{username}' registered successfully!\")\n",
    "            break\n",
    "        elif key & 0xFF == ord('q'):\n",
    "            break\n",
    "    cap.release()\n",
    "    cv2.destroyAllWindows()\n",
    "\n",
    "def register_user():\n",
    "    username = simpledialog.askstring(\"Input\", \"Enter your name:\")\n",
    "    if not username:\n",
    "        messagebox.showerror(\"Error\", \"No name entered.\")\n",
    "        return\n",
    "    capture_image(username)\n",
    "\n",
    "def login_user():\n",
    "    cap = cv2.VideoCapture(0)\n",
    "    while True:\n",
    "        _, frame = cap.read()\n",
    "        cv2.imshow('Press \"s\" to Login, \"q\" to Quit', frame)\n",
    "        key = cv2.waitKey(1)\n",
    "        if key & 0xFF == ord('s'):\n",
    "            temp_image_path = os.path.join(USER_DB_DIR, 'temp.jpg')\n",
    "            cv2.imwrite(temp_image_path, frame)\n",
    "            break\n",
    "        elif key & 0xFF == ord('q'):\n",
    "            cap.release()\n",
    "            cv2.destroyAllWindows()\n",
    "            return\n",
    "    cap.release()\n",
    "    cv2.destroyAllWindows()\n",
    "    \n",
    "    for filename in os.listdir(USER_DB_DIR):\n",
    "        if filename == 'temp.jpg':\n",
    "            continue\n",
    "        registered_image_path = os.path.join(USER_DB_DIR, filename)\n",
    "        try:\n",
    "            result = DeepFace.verify(temp_image_path, registered_image_path, model_name='VGG-Face', enforce_detection=False)\n",
    "            if result['verified']:\n",
    "                messagebox.showinfo(\"Login\", f\"Welcome, {filename.split('.')[0]}!\")\n",
    "                os.remove(temp_image_path)\n",
    "                return\n",
    "        except Exception as e:\n",
    "            print(f\"Error comparing images: {e}\")\n",
    "    \n",
    "    messagebox.showerror(\"Login Failed\", \"No matching user found.\")\n",
    "    os.remove(temp_image_path)\n",
    "\n",
    "\n"
   ]
  },
  {
   "cell_type": "markdown",
   "metadata": {},
   "source": [
    "<h3>Main window GUI and controller</h3>"
   ]
  },
  {
   "cell_type": "code",
   "execution_count": 5,
   "metadata": {},
   "outputs": [],
   "source": [
    "def main():\n",
    "    root = tk.Tk()\n",
    "    root.title(\"Face Recognition System\")\n",
    "    root.geometry(\"300x200\")\n",
    "\n",
    "    register_button = tk.Button(root, text=\"Register\", command=register_user, width=20, height=2)\n",
    "    register_button.pack(pady=20)\n",
    "\n",
    "    login_button = tk.Button(root, text=\"Login\", command=login_user, width=20, height=2)\n",
    "    login_button.pack(pady=20)\n",
    "    root.mainloop()\n",
    "\n",
    "if __name__ == \"__main__\":\n",
    "    main()"
   ]
  }
 ],
 "metadata": {
  "kernelspec": {
   "display_name": "base",
   "language": "python",
   "name": "python3"
  },
  "language_info": {
   "codemirror_mode": {
    "name": "ipython",
    "version": 3
   },
   "file_extension": ".py",
   "mimetype": "text/x-python",
   "name": "python",
   "nbconvert_exporter": "python",
   "pygments_lexer": "ipython3",
   "version": "3.12.4"
  }
 },
 "nbformat": 4,
 "nbformat_minor": 2
}
